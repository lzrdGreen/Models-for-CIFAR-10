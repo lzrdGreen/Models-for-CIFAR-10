{
 "cells": [
  {
   "cell_type": "markdown",
   "id": "783d7edf",
   "metadata": {},
   "source": [
    "# CIFAR-10\n",
    "There is a nice tutorial on image classification on the official PyTorch website: https://pytorch.org/tutorials/beginner/blitz/cifar10_tutorial.html?highlight=cifar\n",
    "\n",
    "Following them closely let's first reproduce their results, then try and simplify their model to see what can still work, and finally let's try to improve their model."
   ]
  },
  {
   "cell_type": "code",
   "execution_count": 1,
   "id": "327361ff",
   "metadata": {},
   "outputs": [],
   "source": [
    "import torch\n",
    "import torchvision\n",
    "import torchvision.transforms as transforms\n",
    "import torch.nn as nn\n",
    "import torch.nn.functional as F\n",
    "import matplotlib.pyplot as plt\n",
    "import numpy as np\n",
    "\n",
    "\n",
    "classes = ('plane', 'car', 'bird', 'cat',\n",
    "           'deer', 'dog', 'frog', 'horse', 'ship', 'truck')"
   ]
  },
  {
   "cell_type": "code",
   "execution_count": 2,
   "id": "79dcc2c2",
   "metadata": {},
   "outputs": [
    {
     "name": "stdout",
     "output_type": "stream",
     "text": [
      "Files already downloaded and verified\n",
      "Files already downloaded and verified\n"
     ]
    }
   ],
   "source": [
    "transform = transforms.Compose(\n",
    "    [transforms.ToTensor(),\n",
    "     transforms.Normalize((0.5, 0.5, 0.5), (0.5, 0.5, 0.5))])\n",
    "\n",
    "batch_size = 16\n",
    "\n",
    "trainset = torchvision.datasets.CIFAR10(root='./data', train=True,\n",
    "                                        download=True, transform=transform)\n",
    "trainloader = torch.utils.data.DataLoader(trainset, batch_size=batch_size,\n",
    "                                          shuffle=True, num_workers=2)\n",
    "testset = torchvision.datasets.CIFAR10(root='./data', train=False,\n",
    "                                       download=True, transform=transform)\n",
    "testloader = torch.utils.data.DataLoader(testset, batch_size=batch_size,\n",
    "                                         shuffle=False, num_workers=2)"
   ]
  },
  {
   "cell_type": "code",
   "execution_count": 3,
   "id": "734fc07a",
   "metadata": {},
   "outputs": [
    {
     "data": {
      "text/plain": [
       "'cuda'"
      ]
     },
     "execution_count": 3,
     "metadata": {},
     "output_type": "execute_result"
    }
   ],
   "source": [
    "device = \"cuda\" if torch.cuda.is_available() else \"cpu\"\n",
    "device"
   ]
  },
  {
   "cell_type": "code",
   "execution_count": 4,
   "id": "6b4ad670",
   "metadata": {},
   "outputs": [],
   "source": [
    "class Net(nn.Module):\n",
    "    def __init__(self):\n",
    "        super().__init__()\n",
    "        self.act = nn.ReLU()\n",
    "        self.pool = nn.MaxPool2d(2, 2)\n",
    "        self.conv1 = nn.Conv2d(3, 6, 5)\n",
    "        self.conv2 = nn.Conv2d(6, 16, 5)\n",
    "        self.fc1 = nn.Linear(16 * 5 * 5, 120)\n",
    "        self.fc2 = nn.Linear(120, 84)\n",
    "        self.fc3 = nn.Linear(84, 10)\n",
    "\n",
    "    def forward(self, x):\n",
    "        x = self.pool(self.act(self.conv1(x)))\n",
    "        x = self.pool(self.act(self.conv2(x)))\n",
    "        x = torch.flatten(x, 1) # flatten all dimensions except batch\n",
    "        x = self.act(self.fc1(x))\n",
    "        x = self.act(self.fc2(x))\n",
    "        x = self.fc3(x)\n",
    "        return x"
   ]
  },
  {
   "cell_type": "code",
   "execution_count": 5,
   "id": "9f0ca1c4",
   "metadata": {},
   "outputs": [
    {
     "data": {
      "text/plain": [
       "Net(\n",
       "  (act): ReLU()\n",
       "  (pool): MaxPool2d(kernel_size=2, stride=2, padding=0, dilation=1, ceil_mode=False)\n",
       "  (conv1): Conv2d(3, 6, kernel_size=(5, 5), stride=(1, 1))\n",
       "  (conv2): Conv2d(6, 16, kernel_size=(5, 5), stride=(1, 1))\n",
       "  (fc1): Linear(in_features=400, out_features=120, bias=True)\n",
       "  (fc2): Linear(in_features=120, out_features=84, bias=True)\n",
       "  (fc3): Linear(in_features=84, out_features=10, bias=True)\n",
       ")"
      ]
     },
     "execution_count": 5,
     "metadata": {},
     "output_type": "execute_result"
    }
   ],
   "source": [
    "net = Net()\n",
    "net.to(device)"
   ]
  },
  {
   "cell_type": "code",
   "execution_count": 6,
   "id": "3a9d2af9",
   "metadata": {},
   "outputs": [],
   "source": [
    "import torch.optim as optim\n",
    "\n",
    "criterion = nn.CrossEntropyLoss()\n",
    "optimizer = optim.SGD(net.parameters(), lr=0.001, momentum=0.9)"
   ]
  },
  {
   "cell_type": "code",
   "execution_count": 7,
   "id": "538cb3b3",
   "metadata": {},
   "outputs": [],
   "source": [
    "train_loss = []\n",
    "val_loss = []"
   ]
  },
  {
   "cell_type": "code",
   "execution_count": 8,
   "id": "a25aa554",
   "metadata": {},
   "outputs": [
    {
     "name": "stdout",
     "output_type": "stream",
     "text": [
      "[1,  2000] loss: 2.263\n",
      "Test Error: \n",
      " Val Accuracy: 25.8%, Avg val loss: 2.080327 \n",
      "\n",
      "[2,  2000] loss: 1.673\n",
      "Test Error: \n",
      " Val Accuracy: 43.1%, Avg val loss: 1.548349 \n",
      "\n",
      "[3,  2000] loss: 1.450\n",
      "Test Error: \n",
      " Val Accuracy: 48.8%, Avg val loss: 1.400362 \n",
      "\n",
      "[4,  2000] loss: 1.323\n",
      "Test Error: \n",
      " Val Accuracy: 53.4%, Avg val loss: 1.287885 \n",
      "\n",
      "[5,  2000] loss: 1.238\n",
      "Test Error: \n",
      " Val Accuracy: 55.8%, Avg val loss: 1.236262 \n",
      "\n",
      "[6,  2000] loss: 1.164\n",
      "Test Error: \n",
      " Val Accuracy: 57.9%, Avg val loss: 1.195603 \n",
      "\n",
      "[7,  2000] loss: 1.111\n",
      "Test Error: \n",
      " Val Accuracy: 56.6%, Avg val loss: 1.229826 \n",
      "\n",
      "[8,  2000] loss: 1.057\n",
      "Test Error: \n",
      " Val Accuracy: 60.2%, Avg val loss: 1.131595 \n",
      "\n",
      "[9,  2000] loss: 1.015\n",
      "Test Error: \n",
      " Val Accuracy: 60.8%, Avg val loss: 1.116296 \n",
      "\n",
      "[10,  2000] loss: 0.972\n",
      "Test Error: \n",
      " Val Accuracy: 60.2%, Avg val loss: 1.137115 \n",
      "\n",
      "[11,  2000] loss: 0.931\n",
      "Test Error: \n",
      " Val Accuracy: 62.9%, Avg val loss: 1.077083 \n",
      "\n",
      "[12,  2000] loss: 0.892\n",
      "Test Error: \n",
      " Val Accuracy: 63.2%, Avg val loss: 1.066959 \n",
      "\n",
      "[13,  2000] loss: 0.857\n",
      "Test Error: \n",
      " Val Accuracy: 62.7%, Avg val loss: 1.088852 \n",
      "\n",
      "[14,  2000] loss: 0.825\n",
      "Test Error: \n",
      " Val Accuracy: 63.0%, Avg val loss: 1.078264 \n",
      "\n",
      "[15,  2000] loss: 0.800\n",
      "Test Error: \n",
      " Val Accuracy: 63.2%, Avg val loss: 1.088279 \n",
      "\n",
      "[16,  2000] loss: 0.773\n",
      "Test Error: \n",
      " Val Accuracy: 64.5%, Avg val loss: 1.058024 \n",
      "\n",
      "[17,  2000] loss: 0.736\n",
      "Test Error: \n",
      " Val Accuracy: 63.3%, Avg val loss: 1.116993 \n",
      "\n",
      "[18,  2000] loss: 0.714\n",
      "Test Error: \n",
      " Val Accuracy: 63.7%, Avg val loss: 1.098437 \n",
      "\n",
      "[19,  2000] loss: 0.688\n",
      "Test Error: \n",
      " Val Accuracy: 63.2%, Avg val loss: 1.159051 \n",
      "\n",
      "[20,  2000] loss: 0.667\n",
      "Test Error: \n",
      " Val Accuracy: 63.7%, Avg val loss: 1.151157 \n",
      "\n"
     ]
    }
   ],
   "source": [
    "for epoch in range(20):  # loop over the dataset multiple times\n",
    "\n",
    "    running_loss = 0.0\n",
    "    for i, data in enumerate(trainloader, 0):\n",
    "        # get the inputs; data is a list of [inputs, labels]\n",
    "        inputs, labels = data\n",
    "        inputs, labels = inputs.to(device), labels.to(device)\n",
    "\n",
    "        # zero the parameter gradients\n",
    "        optimizer.zero_grad()\n",
    "\n",
    "        # forward + backward + optimize\n",
    "        outputs = net(inputs)\n",
    "        loss = criterion(outputs, labels)\n",
    "        loss.backward()\n",
    "        optimizer.step()\n",
    "\n",
    "        # print statistics\n",
    "        running_loss += loss.item()\n",
    "        \n",
    "        if i % 2000 == 1999:    # print every 2000 mini-batches\n",
    "            print('[%d, %5d] loss: %.3f' %\n",
    "                  (epoch + 1, i + 1, running_loss / 2000))\n",
    "            train_loss.append(running_loss / 2000)\n",
    "            running_loss = 0.0\n",
    "            \n",
    "            size = len(testloader.dataset)\n",
    "            num_batches = len(testloader)\n",
    "            net.eval()\n",
    "            test_loss, correct = 0, 0\n",
    "            with torch.no_grad():\n",
    "                for X, y in testloader:\n",
    "                    X, y = X.to(device), y.to(device)\n",
    "                    pred = net(X)\n",
    "                    test_loss += criterion(pred, y).item()\n",
    "                    correct += (pred.argmax(1) == y).type(torch.float).sum().item()\n",
    "            test_loss /= num_batches\n",
    "            correct /= size\n",
    "            val_loss.append(test_loss)\n",
    "            print(f\"Test Error: \\n Val Accuracy: {(100*correct):>0.1f}%, Avg val loss: {test_loss:>8f} \\n\")"
   ]
  },
  {
   "cell_type": "code",
   "execution_count": 9,
   "id": "302939ba",
   "metadata": {},
   "outputs": [
    {
     "data": {
      "text/plain": [
       "Text(0, 0.5, 'Loss')"
      ]
     },
     "execution_count": 9,
     "metadata": {},
     "output_type": "execute_result"
    },
    {
     "data": {
      "image/png": "[encoded data removed]",
      "text/plain": [
       "<Figure size 432x288 with 1 Axes>"
      ]
     },
     "metadata": {
      "needs_background": "light"
     },
     "output_type": "display_data"
    }
   ],
   "source": [
    "plt.clf()\n",
    "plt.plot(train_loss, label=\"train\")\n",
    "plt.plot(val_loss, label=\"valid\")\n",
    "plt.legend(loc=\"upper right\")\n",
    "plt.xlabel(\"Epochs\")\n",
    "plt.ylabel(\"Loss\")"
   ]
  },
  {
   "cell_type": "code",
   "execution_count": 10,
   "id": "6acbf206",
   "metadata": {},
   "outputs": [
    {
     "name": "stdout",
     "output_type": "stream",
     "text": [
      "Test Error: \n",
      " Accuracy: 63.5%, Avg loss: 1.146177 \n",
      "\n"
     ]
    }
   ],
   "source": [
    "# Bad practice!:\n",
    "size = len(testloader.dataset)\n",
    "num_batches = len(testloader)\n",
    "net.eval()\n",
    "test_loss, correct = 0, 0\n",
    "with torch.no_grad():\n",
    "    for X, y in testloader:\n",
    "        X, y = X.to(device), y.to(device)\n",
    "        pred = net(X)\n",
    "        test_loss += criterion(pred, y).item()\n",
    "        correct += (pred.argmax(1) == y).type(torch.float).sum().item()\n",
    "test_loss /= num_batches\n",
    "correct /= size\n",
    "print(f\"Test Error: \\n Accuracy: {(100*correct):>0.1f}%, Avg loss: {test_loss:>8f} \\n\")"
   ]
  },
  {
   "cell_type": "markdown",
   "id": "bb2bdc95",
   "metadata": {},
   "source": [
    "OK. It worked nicely, the model started to over-fit from epoch 15 or so.\n",
    "\n",
    "Now let's try to simplify the Net"
   ]
  },
  {
   "cell_type": "code",
   "execution_count": 11,
   "id": "958d0749",
   "metadata": {},
   "outputs": [],
   "source": [
    "class MLP(nn.Module):\n",
    "    def __init__(self):\n",
    "        super().__init__()\n",
    "        self.act = nn.ReLU()\n",
    "        self.fc1 = nn.Linear(32*32*3, 120)\n",
    "        self.fc2 = nn.Linear(120, 10)\n",
    "\n",
    "    def forward(self, x):        \n",
    "        x = torch.flatten(x, 1) # flatten all dimensions except batch\n",
    "        x = self.act(self.fc1(x))        \n",
    "        x = self.fc2(x)\n",
    "        return x"
   ]
  },
  {
   "cell_type": "code",
   "execution_count": 12,
   "id": "c5f44ec4",
   "metadata": {},
   "outputs": [
    {
     "data": {
      "text/plain": [
       "MLP(\n",
       "  (act): ReLU()\n",
       "  (fc1): Linear(in_features=3072, out_features=120, bias=True)\n",
       "  (fc2): Linear(in_features=120, out_features=10, bias=True)\n",
       ")"
      ]
     },
     "execution_count": 12,
     "metadata": {},
     "output_type": "execute_result"
    }
   ],
   "source": [
    "net = MLP()\n",
    "net.to(device)"
   ]
  },
  {
   "cell_type": "code",
   "execution_count": 13,
   "id": "b59dafca",
   "metadata": {},
   "outputs": [],
   "source": [
    "train_loss = []\n",
    "val_loss = []\n",
    "\n",
    "criterion = nn.CrossEntropyLoss()\n",
    "optimizer = optim.SGD(net.parameters(), lr=0.001, momentum=0.9)"
   ]
  },
  {
   "cell_type": "code",
   "execution_count": 14,
   "id": "9853e894",
   "metadata": {},
   "outputs": [
    {
     "name": "stdout",
     "output_type": "stream",
     "text": [
      "[1,  2000] loss: 1.768\n",
      "Test Error: \n",
      " Val Accuracy: 43.2%, Avg val loss: 1.619777 \n",
      "\n",
      "[2,  2000] loss: 1.525\n",
      "Test Error: \n",
      " Val Accuracy: 47.5%, Avg val loss: 1.502430 \n",
      "\n",
      "[3,  2000] loss: 1.432\n",
      "Test Error: \n",
      " Val Accuracy: 48.7%, Avg val loss: 1.457228 \n",
      "\n",
      "[4,  2000] loss: 1.357\n",
      "Test Error: \n",
      " Val Accuracy: 50.0%, Avg val loss: 1.416703 \n",
      "\n",
      "[5,  2000] loss: 1.306\n",
      "Test Error: \n",
      " Val Accuracy: 50.4%, Avg val loss: 1.404000 \n",
      "\n",
      "[6,  2000] loss: 1.266\n",
      "Test Error: \n",
      " Val Accuracy: 50.7%, Avg val loss: 1.402722 \n",
      "\n",
      "[7,  2000] loss: 1.218\n",
      "Test Error: \n",
      " Val Accuracy: 51.2%, Avg val loss: 1.394588 \n",
      "\n",
      "[8,  2000] loss: 1.189\n",
      "Test Error: \n",
      " Val Accuracy: 52.1%, Avg val loss: 1.373312 \n",
      "\n",
      "[9,  2000] loss: 1.149\n",
      "Test Error: \n",
      " Val Accuracy: 51.7%, Avg val loss: 1.393898 \n",
      "\n",
      "[10,  2000] loss: 1.132\n",
      "Test Error: \n",
      " Val Accuracy: 51.4%, Avg val loss: 1.400032 \n",
      "\n",
      "[11,  2000] loss: 1.097\n",
      "Test Error: \n",
      " Val Accuracy: 52.6%, Avg val loss: 1.381729 \n",
      "\n",
      "[12,  2000] loss: 1.073\n",
      "Test Error: \n",
      " Val Accuracy: 51.5%, Avg val loss: 1.413855 \n",
      "\n",
      "[13,  2000] loss: 1.054\n",
      "Test Error: \n",
      " Val Accuracy: 51.8%, Avg val loss: 1.400493 \n",
      "\n",
      "[14,  2000] loss: 1.035\n",
      "Test Error: \n",
      " Val Accuracy: 52.3%, Avg val loss: 1.400942 \n",
      "\n",
      "[15,  2000] loss: 1.012\n",
      "Test Error: \n",
      " Val Accuracy: 52.0%, Avg val loss: 1.427540 \n",
      "\n",
      "[16,  2000] loss: 0.989\n",
      "Test Error: \n",
      " Val Accuracy: 51.0%, Avg val loss: 1.459903 \n",
      "\n",
      "[17,  2000] loss: 0.959\n",
      "Test Error: \n",
      " Val Accuracy: 51.9%, Avg val loss: 1.442773 \n",
      "\n",
      "[18,  2000] loss: 0.949\n",
      "Test Error: \n",
      " Val Accuracy: 52.5%, Avg val loss: 1.446910 \n",
      "\n",
      "[19,  2000] loss: 0.923\n",
      "Test Error: \n",
      " Val Accuracy: 52.3%, Avg val loss: 1.448482 \n",
      "\n",
      "[20,  2000] loss: 0.914\n",
      "Test Error: \n",
      " Val Accuracy: 51.3%, Avg val loss: 1.507798 \n",
      "\n"
     ]
    }
   ],
   "source": [
    "for epoch in range(20):  # loop over the dataset multiple times\n",
    "\n",
    "    running_loss = 0.0\n",
    "    for i, data in enumerate(trainloader, 0):\n",
    "        # get the inputs; data is a list of [inputs, labels]\n",
    "        inputs, labels = data\n",
    "        inputs, labels = inputs.to(device), labels.to(device)\n",
    "\n",
    "        # zero the parameter gradients\n",
    "        optimizer.zero_grad()\n",
    "\n",
    "        # forward + backward + optimize\n",
    "        outputs = net(inputs)\n",
    "        loss = criterion(outputs, labels)\n",
    "        loss.backward()\n",
    "        optimizer.step()\n",
    "\n",
    "        # print statistics\n",
    "        running_loss += loss.item()\n",
    "        \n",
    "        if i % 2000 == 1999:    # print every 2000 mini-batches\n",
    "            print('[%d, %5d] loss: %.3f' %\n",
    "                  (epoch + 1, i + 1, running_loss / 2000))\n",
    "            train_loss.append(running_loss / 2000)\n",
    "            running_loss = 0.0\n",
    "            \n",
    "            size = len(testloader.dataset)\n",
    "            num_batches = len(testloader)\n",
    "            net.eval()\n",
    "            test_loss, correct = 0, 0\n",
    "            with torch.no_grad():\n",
    "                for X, y in testloader:\n",
    "                    X, y = X.to(device), y.to(device)\n",
    "                    pred = net(X)\n",
    "                    test_loss += criterion(pred, y).item()\n",
    "                    correct += (pred.argmax(1) == y).type(torch.float).sum().item()\n",
    "            test_loss /= num_batches\n",
    "            correct /= size\n",
    "            val_loss.append(test_loss)\n",
    "            print(f\"Test Error: \\n Val Accuracy: {(100*correct):>0.1f}%, Avg val loss: {test_loss:>8f} \\n\")"
   ]
  },
  {
   "cell_type": "code",
   "execution_count": 15,
   "id": "f9332bd6",
   "metadata": {},
   "outputs": [
    {
     "data": {
      "text/plain": [
       "Text(0, 0.5, 'Loss')"
      ]
     },
     "execution_count": 15,
     "metadata": {},
     "output_type": "execute_result"
    },
    {
     "data": {
      "image/png": "[encoded data removed]",
      "text/plain": [
       "<Figure size 432x288 with 1 Axes>"
      ]
     },
     "metadata": {
      "needs_background": "light"
     },
     "output_type": "display_data"
    }
   ],
   "source": [
    "plt.clf()\n",
    "plt.plot(train_loss, label=\"train\")\n",
    "plt.plot(val_loss, label=\"valid\")\n",
    "plt.legend(loc=\"upper right\")\n",
    "plt.xlabel(\"Epochs\")\n",
    "plt.ylabel(\"Loss\")"
   ]
  },
  {
   "cell_type": "code",
   "execution_count": 16,
   "id": "1206fa5f",
   "metadata": {},
   "outputs": [
    {
     "name": "stdout",
     "output_type": "stream",
     "text": [
      "Test Error: \n",
      " Accuracy: 51.7%, Avg loss: 1.475731 \n",
      "\n"
     ]
    }
   ],
   "source": [
    "# Bad practice!:\n",
    "size = len(testloader.dataset)\n",
    "num_batches = len(testloader)\n",
    "net.eval()\n",
    "test_loss, correct = 0, 0\n",
    "with torch.no_grad():\n",
    "    for X, y in testloader:\n",
    "        X, y = X.to(device), y.to(device)\n",
    "        pred = net(X)\n",
    "        test_loss += criterion(pred, y).item()\n",
    "        correct += (pred.argmax(1) == y).type(torch.float).sum().item()\n",
    "test_loss /= num_batches\n",
    "correct /= size\n",
    "print(f\"Test Error: \\n Accuracy: {(100*correct):>0.1f}%, Avg loss: {test_loss:>8f} \\n\")"
   ]
  },
  {
   "cell_type": "markdown",
   "id": "4873e90a",
   "metadata": {},
   "source": [
    "OK. Accuracy got worse - the model is much simpler but it trained. Definitely better than chance (51% vs 10% by chance). The model clearly over-fits.\n",
    "\n",
    "Now let's see if Sigmoid activation (with the deadful gradient vanish lurking somewhere) works:"
   ]
  },
  {
   "cell_type": "code",
   "execution_count": 17,
   "id": "7b16c284",
   "metadata": {},
   "outputs": [],
   "source": [
    "class MLP(nn.Module):\n",
    "    def __init__(self):\n",
    "        super().__init__()\n",
    "        self.act = nn.Sigmoid()\n",
    "        self.fc1 = nn.Linear(32*32*3, 120)\n",
    "        self.fc2 = nn.Linear(120, 10)\n",
    "\n",
    "    def forward(self, x):        \n",
    "        x = torch.flatten(x, 1) # flatten all dimensions except batch\n",
    "        x = self.act(self.fc1(x))        \n",
    "        x = self.fc2(x)\n",
    "        return x"
   ]
  },
  {
   "cell_type": "code",
   "execution_count": 18,
   "id": "af4e0031",
   "metadata": {},
   "outputs": [
    {
     "data": {
      "text/plain": [
       "MLP(\n",
       "  (act): Sigmoid()\n",
       "  (fc1): Linear(in_features=3072, out_features=120, bias=True)\n",
       "  (fc2): Linear(in_features=120, out_features=10, bias=True)\n",
       ")"
      ]
     },
     "execution_count": 18,
     "metadata": {},
     "output_type": "execute_result"
    }
   ],
   "source": [
    "net = MLP()\n",
    "net.to(device)"
   ]
  },
  {
   "cell_type": "code",
   "execution_count": 19,
   "id": "275cbb5a",
   "metadata": {},
   "outputs": [],
   "source": [
    "train_loss = []\n",
    "val_loss = []\n",
    "\n",
    "criterion = nn.CrossEntropyLoss()\n",
    "optimizer = optim.SGD(net.parameters(), lr=0.001, momentum=0.9)"
   ]
  },
  {
   "cell_type": "code",
   "execution_count": 20,
   "id": "8e8ed069",
   "metadata": {},
   "outputs": [
    {
     "name": "stdout",
     "output_type": "stream",
     "text": [
      "[1,  2000] loss: 1.994\n",
      "Test Error: \n",
      " Val Accuracy: 34.9%, Avg val loss: 1.867804 \n",
      "\n",
      "[2,  2000] loss: 1.796\n",
      "Test Error: \n",
      " Val Accuracy: 38.5%, Avg val loss: 1.767857 \n",
      "\n",
      "[3,  2000] loss: 1.733\n",
      "Test Error: \n",
      " Val Accuracy: 39.4%, Avg val loss: 1.723148 \n",
      "\n",
      "[4,  2000] loss: 1.699\n",
      "Test Error: \n",
      " Val Accuracy: 41.2%, Avg val loss: 1.696590 \n",
      "\n",
      "[5,  2000] loss: 1.670\n",
      "Test Error: \n",
      " Val Accuracy: 41.8%, Avg val loss: 1.678390 \n",
      "\n",
      "[6,  2000] loss: 1.647\n",
      "Test Error: \n",
      " Val Accuracy: 42.5%, Avg val loss: 1.657322 \n",
      "\n",
      "[7,  2000] loss: 1.623\n",
      "Test Error: \n",
      " Val Accuracy: 42.4%, Avg val loss: 1.647403 \n",
      "\n",
      "[8,  2000] loss: 1.603\n",
      "Test Error: \n",
      " Val Accuracy: 43.6%, Avg val loss: 1.624379 \n",
      "\n",
      "[9,  2000] loss: 1.577\n",
      "Test Error: \n",
      " Val Accuracy: 44.8%, Avg val loss: 1.606991 \n",
      "\n",
      "[10,  2000] loss: 1.558\n",
      "Test Error: \n",
      " Val Accuracy: 44.9%, Avg val loss: 1.596595 \n",
      "\n",
      "[11,  2000] loss: 1.540\n",
      "Test Error: \n",
      " Val Accuracy: 45.2%, Avg val loss: 1.583611 \n",
      "\n",
      "[12,  2000] loss: 1.524\n",
      "Test Error: \n",
      " Val Accuracy: 45.7%, Avg val loss: 1.577359 \n",
      "\n",
      "[13,  2000] loss: 1.505\n",
      "Test Error: \n",
      " Val Accuracy: 46.2%, Avg val loss: 1.563698 \n",
      "\n",
      "[14,  2000] loss: 1.489\n",
      "Test Error: \n",
      " Val Accuracy: 46.6%, Avg val loss: 1.552038 \n",
      "\n",
      "[15,  2000] loss: 1.472\n",
      "Test Error: \n",
      " Val Accuracy: 47.0%, Avg val loss: 1.544679 \n",
      "\n",
      "[16,  2000] loss: 1.452\n",
      "Test Error: \n",
      " Val Accuracy: 46.9%, Avg val loss: 1.537770 \n",
      "\n",
      "[17,  2000] loss: 1.435\n",
      "Test Error: \n",
      " Val Accuracy: 47.4%, Avg val loss: 1.529192 \n",
      "\n",
      "[18,  2000] loss: 1.419\n",
      "Test Error: \n",
      " Val Accuracy: 47.3%, Avg val loss: 1.521031 \n",
      "\n",
      "[19,  2000] loss: 1.400\n",
      "Test Error: \n",
      " Val Accuracy: 47.9%, Avg val loss: 1.511917 \n",
      "\n",
      "[20,  2000] loss: 1.389\n",
      "Test Error: \n",
      " Val Accuracy: 48.1%, Avg val loss: 1.503867 \n",
      "\n"
     ]
    }
   ],
   "source": [
    "for epoch in range(20):  # loop over the dataset multiple times\n",
    "\n",
    "    running_loss = 0.0\n",
    "    for i, data in enumerate(trainloader, 0):\n",
    "        # get the inputs; data is a list of [inputs, labels]\n",
    "        inputs, labels = data\n",
    "        inputs, labels = inputs.to(device), labels.to(device)\n",
    "\n",
    "        # zero the parameter gradients\n",
    "        optimizer.zero_grad()\n",
    "\n",
    "        # forward + backward + optimize\n",
    "        outputs = net(inputs)\n",
    "        loss = criterion(outputs, labels)\n",
    "        loss.backward()\n",
    "        optimizer.step()\n",
    "\n",
    "        # print statistics\n",
    "        running_loss += loss.item()\n",
    "        \n",
    "        if i % 2000 == 1999:    # print every 2000 mini-batches\n",
    "            print('[%d, %5d] loss: %.3f' %\n",
    "                  (epoch + 1, i + 1, running_loss / 2000))\n",
    "            train_loss.append(running_loss / 2000)\n",
    "            running_loss = 0.0\n",
    "            \n",
    "            size = len(testloader.dataset)\n",
    "            num_batches = len(testloader)\n",
    "            net.eval()\n",
    "            test_loss, correct = 0, 0\n",
    "            with torch.no_grad():\n",
    "                for X, y in testloader:\n",
    "                    X, y = X.to(device), y.to(device)\n",
    "                    pred = net(X)\n",
    "                    test_loss += criterion(pred, y).item()\n",
    "                    correct += (pred.argmax(1) == y).type(torch.float).sum().item()\n",
    "            test_loss /= num_batches\n",
    "            correct /= size\n",
    "            val_loss.append(test_loss)\n",
    "            print(f\"Test Error: \\n Val Accuracy: {(100*correct):>0.1f}%, Avg val loss: {test_loss:>8f} \\n\")"
   ]
  },
  {
   "cell_type": "code",
   "execution_count": 21,
   "id": "48885d9f",
   "metadata": {},
   "outputs": [
    {
     "data": {
      "text/plain": [
       "Text(0, 0.5, 'Loss')"
      ]
     },
     "execution_count": 21,
     "metadata": {},
     "output_type": "execute_result"
    },
    {
     "data": {
      "image/png": "[encoded data removed]",
      "text/plain": [
       "<Figure size 432x288 with 1 Axes>"
      ]
     },
     "metadata": {
      "needs_background": "light"
     },
     "output_type": "display_data"
    }
   ],
   "source": [
    "plt.clf()\n",
    "plt.plot(train_loss, label=\"train\")\n",
    "plt.plot(val_loss, label=\"valid\")\n",
    "plt.legend(loc=\"upper right\")\n",
    "plt.xlabel(\"Epochs\")\n",
    "plt.ylabel(\"Loss\")"
   ]
  },
  {
   "cell_type": "code",
   "execution_count": 22,
   "id": "c8f4fffd",
   "metadata": {},
   "outputs": [
    {
     "name": "stdout",
     "output_type": "stream",
     "text": [
      "Test Error: \n",
      " Accuracy: 48.3%, Avg loss: 1.504867 \n",
      "\n"
     ]
    }
   ],
   "source": [
    "# Bad practice!:\n",
    "size = len(testloader.dataset)\n",
    "num_batches = len(testloader)\n",
    "net.eval()\n",
    "test_loss, correct = 0, 0\n",
    "with torch.no_grad():\n",
    "    for X, y in testloader:\n",
    "        X, y = X.to(device), y.to(device)\n",
    "        pred = net(X)\n",
    "        test_loss += criterion(pred, y).item()\n",
    "        correct += (pred.argmax(1) == y).type(torch.float).sum().item()\n",
    "test_loss /= num_batches\n",
    "correct /= size\n",
    "print(f\"Test Error: \\n Accuracy: {(100*correct):>0.1f}%, Avg loss: {test_loss:>8f} \\n\")"
   ]
  },
  {
   "cell_type": "markdown",
   "id": "c7a9dba9",
   "metadata": {},
   "source": [
    "OK. Slightly worse. But the model is still training, let's run it for another 10 epochs"
   ]
  },
  {
   "cell_type": "code",
   "execution_count": 23,
   "id": "9b60fc58",
   "metadata": {},
   "outputs": [
    {
     "name": "stdout",
     "output_type": "stream",
     "text": [
      "[1,  2000] loss: 1.369\n",
      "Test Error: \n",
      " Val Accuracy: 48.5%, Avg val loss: 1.497598 \n",
      "\n",
      "[2,  2000] loss: 1.361\n",
      "Test Error: \n",
      " Val Accuracy: 48.4%, Avg val loss: 1.495754 \n",
      "\n",
      "[3,  2000] loss: 1.341\n",
      "Test Error: \n",
      " Val Accuracy: 48.5%, Avg val loss: 1.486527 \n",
      "\n",
      "[4,  2000] loss: 1.330\n",
      "Test Error: \n",
      " Val Accuracy: 48.7%, Avg val loss: 1.484559 \n",
      "\n",
      "[5,  2000] loss: 1.314\n",
      "Test Error: \n",
      " Val Accuracy: 49.1%, Avg val loss: 1.476015 \n",
      "\n",
      "[6,  2000] loss: 1.302\n",
      "Test Error: \n",
      " Val Accuracy: 48.8%, Avg val loss: 1.475494 \n",
      "\n",
      "[7,  2000] loss: 1.282\n",
      "Test Error: \n",
      " Val Accuracy: 49.5%, Avg val loss: 1.468043 \n",
      "\n",
      "[8,  2000] loss: 1.278\n",
      "Test Error: \n",
      " Val Accuracy: 49.4%, Avg val loss: 1.467154 \n",
      "\n",
      "[9,  2000] loss: 1.260\n",
      "Test Error: \n",
      " Val Accuracy: 48.9%, Avg val loss: 1.469240 \n",
      "\n",
      "[10,  2000] loss: 1.244\n",
      "Test Error: \n",
      " Val Accuracy: 48.8%, Avg val loss: 1.467026 \n",
      "\n"
     ]
    }
   ],
   "source": [
    "for epoch in range(10):  # loop over the dataset multiple times\n",
    "\n",
    "    running_loss = 0.0\n",
    "    for i, data in enumerate(trainloader, 0):\n",
    "        # get the inputs; data is a list of [inputs, labels]\n",
    "        inputs, labels = data\n",
    "        inputs, labels = inputs.to(device), labels.to(device)\n",
    "\n",
    "        # zero the parameter gradients\n",
    "        optimizer.zero_grad()\n",
    "\n",
    "        # forward + backward + optimize\n",
    "        outputs = net(inputs)\n",
    "        loss = criterion(outputs, labels)\n",
    "        loss.backward()\n",
    "        optimizer.step()\n",
    "\n",
    "        # print statistics\n",
    "        running_loss += loss.item()\n",
    "        \n",
    "        if i % 2000 == 1999:    # print every 2000 mini-batches\n",
    "            print('[%d, %5d] loss: %.3f' %\n",
    "                  (epoch + 1, i + 1, running_loss / 2000))\n",
    "            train_loss.append(running_loss / 2000)\n",
    "            running_loss = 0.0\n",
    "            \n",
    "            size = len(testloader.dataset)\n",
    "            num_batches = len(testloader)\n",
    "            net.eval()\n",
    "            test_loss, correct = 0, 0\n",
    "            with torch.no_grad():\n",
    "                for X, y in testloader:\n",
    "                    X, y = X.to(device), y.to(device)\n",
    "                    pred = net(X)\n",
    "                    test_loss += criterion(pred, y).item()\n",
    "                    correct += (pred.argmax(1) == y).type(torch.float).sum().item()\n",
    "            test_loss /= num_batches\n",
    "            correct /= size\n",
    "            val_loss.append(test_loss)\n",
    "            print(f\"Test Error: \\n Val Accuracy: {(100*correct):>0.1f}%, Avg val loss: {test_loss:>8f} \\n\")"
   ]
  },
  {
   "cell_type": "code",
   "execution_count": 24,
   "id": "868a89ad",
   "metadata": {},
   "outputs": [
    {
     "name": "stdout",
     "output_type": "stream",
     "text": [
      "Test Error: \n",
      " Accuracy: 49.6%, Avg loss: 1.456942 \n",
      "\n"
     ]
    }
   ],
   "source": [
    "# Bad practice!:\n",
    "size = len(testloader.dataset)\n",
    "num_batches = len(testloader)\n",
    "net.eval()\n",
    "test_loss, correct = 0, 0\n",
    "with torch.no_grad():\n",
    "    for X, y in testloader:\n",
    "        X, y = X.to(device), y.to(device)\n",
    "        pred = net(X)\n",
    "        test_loss += criterion(pred, y).item()\n",
    "        correct += (pred.argmax(1) == y).type(torch.float).sum().item()\n",
    "test_loss /= num_batches\n",
    "correct /= size\n",
    "print(f\"Test Error: \\n Accuracy: {(100*correct):>0.1f}%, Avg loss: {test_loss:>8f} \\n\")"
   ]
  },
  {
   "cell_type": "markdown",
   "id": "98a07ac8",
   "metadata": {},
   "source": [
    "Yes, the model imroved but not much. Still, Sigmoid activation was quite competitive compared to ReLU (or rather the data set is so forgiving that both models predicted the outcome better than chance)"
   ]
  },
  {
   "cell_type": "markdown",
   "id": "96697807",
   "metadata": {},
   "source": [
    "# The crazy model"
   ]
  },
  {
   "cell_type": "code",
   "execution_count": 25,
   "id": "3b25f139",
   "metadata": {},
   "outputs": [],
   "source": [
    "# without activation!\n",
    "class MLP(nn.Module):\n",
    "    def __init__(self):\n",
    "        super().__init__()\n",
    "        \n",
    "        self.fc1 = nn.Linear(32*32*3, 120)\n",
    "        self.fc2 = nn.Linear(120, 10)\n",
    "\n",
    "    def forward(self, x):        \n",
    "        x = torch.flatten(x, 1) # flatten all dimensions except batch\n",
    "        x = self.fc1(x)     \n",
    "        x = self.fc2(x)\n",
    "        return x"
   ]
  },
  {
   "cell_type": "code",
   "execution_count": 26,
   "id": "ff97e862",
   "metadata": {},
   "outputs": [
    {
     "data": {
      "text/plain": [
       "MLP(\n",
       "  (fc1): Linear(in_features=3072, out_features=120, bias=True)\n",
       "  (fc2): Linear(in_features=120, out_features=10, bias=True)\n",
       ")"
      ]
     },
     "execution_count": 26,
     "metadata": {},
     "output_type": "execute_result"
    }
   ],
   "source": [
    "net = MLP()\n",
    "net.to(device)"
   ]
  },
  {
   "cell_type": "code",
   "execution_count": 27,
   "id": "c22bfb4e",
   "metadata": {},
   "outputs": [],
   "source": [
    "train_loss = []\n",
    "val_loss = []\n",
    "\n",
    "criterion = nn.CrossEntropyLoss()\n",
    "optimizer = optim.SGD(net.parameters(), lr=0.001, momentum=0.9)"
   ]
  },
  {
   "cell_type": "code",
   "execution_count": 28,
   "id": "3719c593",
   "metadata": {},
   "outputs": [
    {
     "name": "stdout",
     "output_type": "stream",
     "text": [
      "[1,  2000] loss: 1.835\n",
      "Test Error: \n",
      " Val Accuracy: 39.5%, Avg val loss: 1.754659 \n",
      "\n",
      "[2,  2000] loss: 1.741\n",
      "Test Error: \n",
      " Val Accuracy: 39.7%, Avg val loss: 1.737123 \n",
      "\n",
      "[3,  2000] loss: 1.717\n",
      "Test Error: \n",
      " Val Accuracy: 40.7%, Avg val loss: 1.723294 \n",
      "\n",
      "[4,  2000] loss: 1.705\n",
      "Test Error: \n",
      " Val Accuracy: 40.5%, Avg val loss: 1.726440 \n",
      "\n",
      "[5,  2000] loss: 1.696\n",
      "Test Error: \n",
      " Val Accuracy: 40.7%, Avg val loss: 1.727185 \n",
      "\n",
      "[6,  2000] loss: 1.681\n",
      "Test Error: \n",
      " Val Accuracy: 40.6%, Avg val loss: 1.725169 \n",
      "\n",
      "[7,  2000] loss: 1.681\n",
      "Test Error: \n",
      " Val Accuracy: 40.4%, Avg val loss: 1.719711 \n",
      "\n",
      "[8,  2000] loss: 1.673\n",
      "Test Error: \n",
      " Val Accuracy: 40.6%, Avg val loss: 1.724313 \n",
      "\n",
      "[9,  2000] loss: 1.673\n",
      "Test Error: \n",
      " Val Accuracy: 40.0%, Avg val loss: 1.729234 \n",
      "\n",
      "[10,  2000] loss: 1.675\n",
      "Test Error: \n",
      " Val Accuracy: 40.6%, Avg val loss: 1.722003 \n",
      "\n"
     ]
    }
   ],
   "source": [
    "for epoch in range(10):  # loop over the dataset multiple times\n",
    "\n",
    "    running_loss = 0.0\n",
    "    for i, data in enumerate(trainloader, 0):\n",
    "        # get the inputs; data is a list of [inputs, labels]\n",
    "        inputs, labels = data\n",
    "        inputs, labels = inputs.to(device), labels.to(device)\n",
    "\n",
    "        # zero the parameter gradients\n",
    "        optimizer.zero_grad()\n",
    "\n",
    "        # forward + backward + optimize\n",
    "        outputs = net(inputs)\n",
    "        loss = criterion(outputs, labels)\n",
    "        loss.backward()\n",
    "        optimizer.step()\n",
    "\n",
    "        # print statistics\n",
    "        running_loss += loss.item()\n",
    "        \n",
    "        if i % 2000 == 1999:    # print every 2000 mini-batches\n",
    "            print('[%d, %5d] loss: %.3f' %\n",
    "                  (epoch + 1, i + 1, running_loss / 2000))\n",
    "            train_loss.append(running_loss / 2000)\n",
    "            running_loss = 0.0\n",
    "            \n",
    "            size = len(testloader.dataset)\n",
    "            num_batches = len(testloader)\n",
    "            net.eval()\n",
    "            test_loss, correct = 0, 0\n",
    "            with torch.no_grad():\n",
    "                for X, y in testloader:\n",
    "                    X, y = X.to(device), y.to(device)\n",
    "                    pred = net(X)\n",
    "                    test_loss += criterion(pred, y).item()\n",
    "                    correct += (pred.argmax(1) == y).type(torch.float).sum().item()\n",
    "            test_loss /= num_batches\n",
    "            correct /= size\n",
    "            val_loss.append(test_loss)\n",
    "            print(f\"Test Error: \\n Val Accuracy: {(100*correct):>0.1f}%, Avg val loss: {test_loss:>8f} \\n\")"
   ]
  },
  {
   "cell_type": "code",
   "execution_count": 29,
   "id": "de390479",
   "metadata": {},
   "outputs": [
    {
     "name": "stdout",
     "output_type": "stream",
     "text": [
      "Test Error: \n",
      " Accuracy: 40.9%, Avg loss: 1.718316 \n",
      "\n"
     ]
    },
    {
     "data": {
      "image/png": "[encoded data removed]",
      "text/plain": [
       "<Figure size 432x288 with 1 Axes>"
      ]
     },
     "metadata": {
      "needs_background": "light"
     },
     "output_type": "display_data"
    }
   ],
   "source": [
    "plt.clf()\n",
    "plt.plot(train_loss, label=\"train\")\n",
    "plt.plot(val_loss, label=\"valid\")\n",
    "plt.legend(loc=\"upper right\")\n",
    "plt.xlabel(\"Epochs\")\n",
    "plt.ylabel(\"Loss\")# Bad practice!:\n",
    "size = len(testloader.dataset)\n",
    "num_batches = len(testloader)\n",
    "net.eval()\n",
    "test_loss, correct = 0, 0\n",
    "with torch.no_grad():\n",
    "    for X, y in testloader:\n",
    "        X, y = X.to(device), y.to(device)\n",
    "        pred = net(X)\n",
    "        test_loss += criterion(pred, y).item()\n",
    "        correct += (pred.argmax(1) == y).type(torch.float).sum().item()\n",
    "test_loss /= num_batches\n",
    "correct /= size\n",
    "print(f\"Test Error: \\n Accuracy: {(100*correct):>0.1f}%, Avg loss: {test_loss:>8f} \\n\")"
   ]
  },
  {
   "cell_type": "code",
   "execution_count": 30,
   "id": "eafde6ee",
   "metadata": {},
   "outputs": [
    {
     "name": "stdout",
     "output_type": "stream",
     "text": [
      "Test Error: \n",
      " Accuracy: 40.9%, Avg loss: 1.718316 \n",
      "\n"
     ]
    }
   ],
   "source": [
    "# Bad practice!:\n",
    "size = len(testloader.dataset)\n",
    "num_batches = len(testloader)\n",
    "net.eval()\n",
    "test_loss, correct = 0, 0\n",
    "with torch.no_grad():\n",
    "    for X, y in testloader:\n",
    "        X, y = X.to(device), y.to(device)\n",
    "        pred = net(X)\n",
    "        test_loss += criterion(pred, y).item()\n",
    "        correct += (pred.argmax(1) == y).type(torch.float).sum().item()\n",
    "test_loss /= num_batches\n",
    "correct /= size\n",
    "print(f\"Test Error: \\n Accuracy: {(100*correct):>0.1f}%, Avg loss: {test_loss:>8f} \\n\")"
   ]
  },
  {
   "cell_type": "markdown",
   "id": "b16b7151",
   "metadata": {},
   "source": [
    "Wait, what happened? Isn't a combination of linear functions just another linear function? It is. But what trained then?\n",
    "\n",
    "I need to step back, scratch my head and figure out that cross-entropy contains a non-linearity. So we could see that 40% accuracy is achievable without explicit activation function - and let's be honest: 40% accuracy is better than 10% or so produce by the blind chance..."
   ]
  },
  {
   "cell_type": "markdown",
   "id": "4ab8ab19",
   "metadata": {},
   "source": [
    "## The big model"
   ]
  },
  {
   "cell_type": "code",
   "execution_count": 1,
   "id": "20fdd516",
   "metadata": {},
   "outputs": [],
   "source": [
    "import torch\n",
    "import torchvision\n",
    "import torchvision.transforms as transforms\n",
    "import torch.nn as nn\n",
    "import torch.nn.functional as F\n",
    "import torch.optim as optim\n",
    "import matplotlib.pyplot as plt\n",
    "import numpy as np"
   ]
  },
  {
   "cell_type": "code",
   "execution_count": 2,
   "id": "104b9e43",
   "metadata": {},
   "outputs": [],
   "source": [
    "device = \"cuda\" if torch.cuda.is_available() else \"cpu\""
   ]
  },
  {
   "cell_type": "code",
   "execution_count": null,
   "id": "fbae209f",
   "metadata": {},
   "outputs": [],
   "source": []
  },
  {
   "cell_type": "code",
   "execution_count": null,
   "id": "51d9242b",
   "metadata": {},
   "outputs": [],
   "source": []
  },
  {
   "cell_type": "code",
   "execution_count": null,
   "id": "50440b7e",
   "metadata": {},
   "outputs": [],
   "source": []
  },
  {
   "cell_type": "code",
   "execution_count": 3,
   "id": "ba876f82",
   "metadata": {},
   "outputs": [],
   "source": [
    "# add some augmentation to the training data\n",
    "transform_train = transforms.Compose(\n",
    "    [transforms.RandomCrop(32, padding=4),\n",
    "        transforms.RandomHorizontalFlip(),\n",
    "        transforms.ToTensor(),\n",
    "        transforms.Normalize((0.5, 0.5, 0.5), (0.5, 0.5, 0.5))])\n",
    "\n",
    "transform_test = transforms.Compose(\n",
    "    [transforms.ToTensor(),\n",
    "     transforms.Normalize((0.5, 0.5, 0.5), (0.5, 0.5, 0.5))])"
   ]
  },
  {
   "cell_type": "code",
   "execution_count": 4,
   "id": "34f7a5c8",
   "metadata": {},
   "outputs": [
    {
     "name": "stdout",
     "output_type": "stream",
     "text": [
      "Files already downloaded and verified\n",
      "Files already downloaded and verified\n"
     ]
    }
   ],
   "source": [
    "batch_size = 16\n",
    "\n",
    "trainset = torchvision.datasets.CIFAR10(root='./data', train=True,\n",
    "                                        download=True, transform=transform_train)\n",
    "trainloader = torch.utils.data.DataLoader(trainset, batch_size=batch_size,\n",
    "                                          shuffle=True, num_workers=2)\n",
    "\n",
    "testset = torchvision.datasets.CIFAR10(root='./data', train=False,\n",
    "                                       download=True, transform=transform_test)\n",
    "testloader = torch.utils.data.DataLoader(testset, batch_size=batch_size,\n",
    "                                         shuffle=False, num_workers=2)"
   ]
  },
  {
   "cell_type": "markdown",
   "id": "78c8bce8",
   "metadata": {},
   "source": [
    "I'll describe the model a bit later, first, let's see how it works"
   ]
  },
  {
   "cell_type": "code",
   "execution_count": 5,
   "id": "7e89707c",
   "metadata": {},
   "outputs": [],
   "source": [
    "class CNN(nn.Module):\n",
    "    def __init__(self):\n",
    "        super(CNN, self).__init__()\n",
    "        self.cnn0 = nn.Conv2d(in_channels=3, out_channels=8, kernel_size=3, stride=1, padding=1)\n",
    "        self.cnn02 = nn.Conv2d(in_channels=3, out_channels=8, kernel_size=7, stride=1, padding=3)\n",
    "        self.cnn1 = nn.Conv2d(in_channels=3, out_channels=8, kernel_size=5, stride=1, padding=2)\n",
    "        self.cnn03 = nn.Conv2d(in_channels=3, out_channels=8, kernel_size=9, stride=1, padding=4)\n",
    "        self.bn1 = nn.BatchNorm2d(32)\n",
    "        self.act = nn.LeakyReLU(negative_slope = 0.1) \n",
    "        self.cnn11 = nn.Conv2d(in_channels=32, out_channels=64, kernel_size=3, stride=1, padding=1)\n",
    "        self.maxpool1=nn.MaxPool2d(kernel_size=2)\n",
    "        self.cnn20 = nn.Conv2d(in_channels=64, out_channels=32, kernel_size=3, stride=1, padding=1)\n",
    "        self.cnn21 = nn.Conv2d(in_channels=64, out_channels=64, kernel_size=5, stride=1, padding=2)\n",
    "        self.cnn2 = nn.Conv2d(in_channels=64, out_channels=32, kernel_size=7, stride=1, padding=3)\n",
    "        self.bn2 = nn.BatchNorm2d(128)\n",
    "        self.cnn22 = nn.Conv2d(in_channels=128, out_channels=128, kernel_size=3, stride=1, padding=1)\n",
    "        self.maxpool2=nn.MaxPool2d(kernel_size=2)\n",
    "        self.cnn3 = nn.Conv2d(in_channels=128, out_channels=128, kernel_size=3, stride=1, padding=1)\n",
    "        self.cnn30 = nn.Conv2d(in_channels=128, out_channels=128, kernel_size=5, stride=1, padding=2)\n",
    "        self.fc1 = nn.Linear(256 * 8 * 8, 2048)\n",
    "        self.fc2 = nn.Linear(2048, 512)\n",
    "        self.fc3 = nn.Linear(512, 128)\n",
    "        self.fc4 = nn.Linear(128, 32)\n",
    "        self.fc5 = nn.Linear(32, 10)\n",
    "\n",
    "    def forward(self, x):\n",
    "        x0 = self.cnn0(x)\n",
    "        x1 = self.cnn1(x)\n",
    "        x2 = self.cnn02(x)\n",
    "        x3 = self.cnn03(x)\n",
    "        x = torch.cat([x1,x2], dim=1)\n",
    "        x = torch.cat([x,x3], dim=1)\n",
    "        x = torch.cat([x0,x], dim=1)\n",
    "        x = self.bn1(x)\n",
    "        x = self.act(x)\n",
    "        x = self.cnn11(x)\n",
    "        x = self.act(x)\n",
    "        #x = torch.relu(x)\n",
    "        x = self.maxpool1(x)\n",
    "        \n",
    "        x0 = self.cnn20(x)\n",
    "        x1 = self.cnn21(x)\n",
    "        x2 = self.cnn2(x)\n",
    "        x = torch.cat([x1,x2], dim=1)\n",
    "        x = torch.cat([x0,x], dim=1)\n",
    "        x = self.bn2(x)\n",
    "        x = self.act(x)\n",
    "        x = self.cnn22(x)\n",
    "        x = self.act(x)\n",
    "        #x = torch.relu(x)\n",
    "        x = self.maxpool2(x)\n",
    "        x1 = self.cnn3(x)\n",
    "        x2 = self.cnn30(x)\n",
    "        x = torch.cat([x1,x2], dim=1)\n",
    "        x = x.view(x.size(0), -1)\n",
    "        x = torch.relu(self.fc1(x))\n",
    "        x = torch.relu(self.fc2(x))\n",
    "        x = torch.relu(self.fc3(x))\n",
    "        x = torch.relu(self.fc4(x))\n",
    "        x = self.fc5(x)\n",
    "        return x"
   ]
  },
  {
   "cell_type": "code",
   "execution_count": 6,
   "id": "f9dfdd4a",
   "metadata": {},
   "outputs": [
    {
     "data": {
      "text/plain": [
       "CNN(\n",
       "  (cnn0): Conv2d(3, 8, kernel_size=(3, 3), stride=(1, 1), padding=(1, 1))\n",
       "  (cnn02): Conv2d(3, 8, kernel_size=(7, 7), stride=(1, 1), padding=(3, 3))\n",
       "  (cnn1): Conv2d(3, 8, kernel_size=(5, 5), stride=(1, 1), padding=(2, 2))\n",
       "  (cnn03): Conv2d(3, 8, kernel_size=(9, 9), stride=(1, 1), padding=(4, 4))\n",
       "  (bn1): BatchNorm2d(32, eps=1e-05, momentum=0.1, affine=True, track_running_stats=True)\n",
       "  (act): LeakyReLU(negative_slope=0.1)\n",
       "  (cnn11): Conv2d(32, 64, kernel_size=(3, 3), stride=(1, 1), padding=(1, 1))\n",
       "  (maxpool1): MaxPool2d(kernel_size=2, stride=2, padding=0, dilation=1, ceil_mode=False)\n",
       "  (cnn20): Conv2d(64, 32, kernel_size=(3, 3), stride=(1, 1), padding=(1, 1))\n",
       "  (cnn21): Conv2d(64, 64, kernel_size=(5, 5), stride=(1, 1), padding=(2, 2))\n",
       "  (cnn2): Conv2d(64, 32, kernel_size=(7, 7), stride=(1, 1), padding=(3, 3))\n",
       "  (bn2): BatchNorm2d(128, eps=1e-05, momentum=0.1, affine=True, track_running_stats=True)\n",
       "  (cnn22): Conv2d(128, 128, kernel_size=(3, 3), stride=(1, 1), padding=(1, 1))\n",
       "  (maxpool2): MaxPool2d(kernel_size=2, stride=2, padding=0, dilation=1, ceil_mode=False)\n",
       "  (cnn3): Conv2d(128, 128, kernel_size=(3, 3), stride=(1, 1), padding=(1, 1))\n",
       "  (cnn30): Conv2d(128, 128, kernel_size=(5, 5), stride=(1, 1), padding=(2, 2))\n",
       "  (fc1): Linear(in_features=16384, out_features=2048, bias=True)\n",
       "  (fc2): Linear(in_features=2048, out_features=512, bias=True)\n",
       "  (fc3): Linear(in_features=512, out_features=128, bias=True)\n",
       "  (fc4): Linear(in_features=128, out_features=32, bias=True)\n",
       "  (fc5): Linear(in_features=32, out_features=10, bias=True)\n",
       ")"
      ]
     },
     "execution_count": 6,
     "metadata": {},
     "output_type": "execute_result"
    }
   ],
   "source": [
    "net = CNN()\n",
    "net.to(device)"
   ]
  },
  {
   "cell_type": "code",
   "execution_count": 7,
   "id": "fad9cb89",
   "metadata": {},
   "outputs": [],
   "source": [
    "train_loss = []\n",
    "val_loss = []\n",
    "\n",
    "criterion = nn.CrossEntropyLoss()\n",
    "optimizer = optim.SGD(net.parameters(), lr=0.001, momentum=0.9)"
   ]
  },
  {
   "cell_type": "code",
   "execution_count": 8,
   "id": "1f3c2ca9",
   "metadata": {},
   "outputs": [
    {
     "name": "stdout",
     "output_type": "stream",
     "text": [
      "[1,  2000] loss: 2.123\n",
      "Test Error: \n",
      " Val Accuracy: 27.8%, Avg val loss: 1.933123 \n",
      "\n",
      "[2,  2000] loss: 1.531\n",
      "Test Error: \n",
      " Val Accuracy: 51.8%, Avg val loss: 1.311630 \n",
      "\n",
      "[3,  2000] loss: 1.198\n",
      "Test Error: \n",
      " Val Accuracy: 60.2%, Avg val loss: 1.103565 \n",
      "\n",
      "[4,  2000] loss: 0.973\n",
      "Test Error: \n",
      " Val Accuracy: 68.9%, Avg val loss: 0.884504 \n",
      "\n",
      "[5,  2000] loss: 0.833\n",
      "Test Error: \n",
      " Val Accuracy: 73.6%, Avg val loss: 0.767367 \n",
      "\n",
      "[6,  2000] loss: 0.749\n",
      "Test Error: \n",
      " Val Accuracy: 74.9%, Avg val loss: 0.730347 \n",
      "\n",
      "[7,  2000] loss: 0.678\n",
      "Test Error: \n",
      " Val Accuracy: 78.1%, Avg val loss: 0.647629 \n",
      "\n",
      "[8,  2000] loss: 0.616\n",
      "Test Error: \n",
      " Val Accuracy: 79.9%, Avg val loss: 0.586506 \n",
      "\n",
      "[9,  2000] loss: 0.574\n",
      "Test Error: \n",
      " Val Accuracy: 80.1%, Avg val loss: 0.580140 \n",
      "\n",
      "[10,  2000] loss: 0.530\n",
      "Test Error: \n",
      " Val Accuracy: 82.2%, Avg val loss: 0.528684 \n",
      "\n"
     ]
    }
   ],
   "source": [
    "for epoch in range(10):  # loop over the dataset multiple times\n",
    "\n",
    "    running_loss = 0.0\n",
    "    for i, data in enumerate(trainloader, 0):\n",
    "        # get the inputs; data is a list of [inputs, labels]\n",
    "        inputs, labels = data\n",
    "        inputs, labels = inputs.to(device), labels.to(device)\n",
    "\n",
    "        # zero the parameter gradients\n",
    "        optimizer.zero_grad()\n",
    "\n",
    "        # forward + backward + optimize\n",
    "        outputs = net(inputs)\n",
    "        loss = criterion(outputs, labels)\n",
    "        loss.backward()\n",
    "        optimizer.step()\n",
    "\n",
    "        # print statistics\n",
    "        running_loss += loss.item()\n",
    "        \n",
    "        if i % 2000 == 1999:    # print every 2000 mini-batches\n",
    "            print('[%d, %5d] loss: %.3f' %\n",
    "                  (epoch + 1, i + 1, running_loss / 2000))\n",
    "            train_loss.append(running_loss / 2000)\n",
    "            running_loss = 0.0\n",
    "            \n",
    "            size = len(testloader.dataset)\n",
    "            num_batches = len(testloader)\n",
    "            net.eval()\n",
    "            test_loss, correct = 0, 0\n",
    "            with torch.no_grad():\n",
    "                for X, y in testloader:\n",
    "                    X, y = X.to(device), y.to(device)\n",
    "                    pred = net(X)\n",
    "                    test_loss += criterion(pred, y).item()\n",
    "                    correct += (pred.argmax(1) == y).type(torch.float).sum().item()\n",
    "            test_loss /= num_batches\n",
    "            correct /= size\n",
    "            val_loss.append(test_loss)\n",
    "            print(f\"Test Error: \\n Val Accuracy: {(100*correct):>0.1f}%, Avg val loss: {test_loss:>8f} \\n\")"
   ]
  },
  {
   "cell_type": "code",
   "execution_count": 9,
   "id": "3e1135ba",
   "metadata": {},
   "outputs": [
    {
     "data": {
      "text/plain": [
       "Text(0, 0.5, 'Loss')"
      ]
     },
     "execution_count": 9,
     "metadata": {},
     "output_type": "execute_result"
    },
    {
     "data": {
      "image/png": "[encoded data removed]",
      "text/plain": [
       "<Figure size 432x288 with 1 Axes>"
      ]
     },
     "metadata": {
      "needs_background": "light"
     },
     "output_type": "display_data"
    }
   ],
   "source": [
    "plt.clf()\n",
    "plt.plot(train_loss, label=\"train\")\n",
    "plt.plot(val_loss, label=\"valid\")\n",
    "plt.legend(loc=\"upper right\")\n",
    "plt.xlabel(\"Epochs\")\n",
    "plt.ylabel(\"Loss\")"
   ]
  },
  {
   "cell_type": "code",
   "execution_count": 10,
   "id": "55ff1248",
   "metadata": {},
   "outputs": [
    {
     "name": "stdout",
     "output_type": "stream",
     "text": [
      "Test Error: \n",
      " Accuracy: 82.0%, Avg loss: 0.527600 \n",
      "\n"
     ]
    }
   ],
   "source": [
    "# Bad practice!:\n",
    "size = len(testloader.dataset)\n",
    "num_batches = len(testloader)\n",
    "net.eval()\n",
    "test_loss, correct = 0, 0\n",
    "with torch.no_grad():\n",
    "    for X, y in testloader:\n",
    "        X, y = X.to(device), y.to(device)\n",
    "        pred = net(X)\n",
    "        test_loss += criterion(pred, y).item()\n",
    "        correct += (pred.argmax(1) == y).type(torch.float).sum().item()\n",
    "test_loss /= num_batches\n",
    "correct /= size\n",
    "print(f\"Test Error: \\n Accuracy: {(100*correct):>0.1f}%, Avg loss: {test_loss:>8f} \\n\")"
   ]
  },
  {
   "cell_type": "raw",
   "id": "067c2543",
   "metadata": {},
   "source": [
    "Very nice, the model reached over 80% accuracy in the frist 10 epochs. Let's describe it.  I used Leaky ReLU (instead of ReLU) in the first (convolutional) part of the model which is designed to extract features. The second part is mush larger - it has 5 layers with enormous number of parameters. It's activation is still ReLU - this works best. \n",
    "\n",
    "Batch normalization helped a lot. Still it's a matter of experimentation of where to place the normalization layer best - the usual rule of thumb is put it just before the activation/ non-linearity.\n",
    "\n",
    "I stacked several convoultional layers (with 3x3, 5x5 and 7x7 kernel (window) size) in order to be able to extract features of different scale. I shamelessly borrowed this idea from the Inception architecture."
   ]
  },
  {
   "cell_type": "code",
   "execution_count": 11,
   "id": "29dd1198",
   "metadata": {},
   "outputs": [
    {
     "name": "stdout",
     "output_type": "stream",
     "text": [
      "[1,  2000] loss: 0.498\n",
      "Test Error: \n",
      " Val Accuracy: 80.7%, Avg val loss: 0.587425 \n",
      "\n",
      "[2,  2000] loss: 0.466\n",
      "Test Error: \n",
      " Val Accuracy: 82.6%, Avg val loss: 0.515447 \n",
      "\n",
      "[3,  2000] loss: 0.437\n",
      "Test Error: \n",
      " Val Accuracy: 84.2%, Avg val loss: 0.473307 \n",
      "\n",
      "[4,  2000] loss: 0.417\n",
      "Test Error: \n",
      " Val Accuracy: 83.7%, Avg val loss: 0.491764 \n",
      "\n",
      "[5,  2000] loss: 0.392\n",
      "Test Error: \n",
      " Val Accuracy: 83.8%, Avg val loss: 0.494210 \n",
      "\n",
      "[6,  2000] loss: 0.371\n",
      "Test Error: \n",
      " Val Accuracy: 84.4%, Avg val loss: 0.492361 \n",
      "\n",
      "[7,  2000] loss: 0.353\n",
      "Test Error: \n",
      " Val Accuracy: 84.2%, Avg val loss: 0.482377 \n",
      "\n",
      "[8,  2000] loss: 0.336\n",
      "Test Error: \n",
      " Val Accuracy: 84.6%, Avg val loss: 0.478013 \n",
      "\n",
      "[9,  2000] loss: 0.322\n",
      "Test Error: \n",
      " Val Accuracy: 85.2%, Avg val loss: 0.483437 \n",
      "\n",
      "[10,  2000] loss: 0.307\n",
      "Test Error: \n",
      " Val Accuracy: 85.0%, Avg val loss: 0.482861 \n",
      "\n"
     ]
    }
   ],
   "source": [
    "for epoch in range(10):  # loop over the dataset multiple times\n",
    "\n",
    "    running_loss = 0.0\n",
    "    for i, data in enumerate(trainloader, 0):\n",
    "        # get the inputs; data is a list of [inputs, labels]\n",
    "        inputs, labels = data\n",
    "        inputs, labels = inputs.to(device), labels.to(device)\n",
    "\n",
    "        # zero the parameter gradients\n",
    "        optimizer.zero_grad()\n",
    "\n",
    "        # forward + backward + optimize\n",
    "        outputs = net(inputs)\n",
    "        loss = criterion(outputs, labels)\n",
    "        loss.backward()\n",
    "        optimizer.step()\n",
    "\n",
    "        # print statistics\n",
    "        running_loss += loss.item()\n",
    "        \n",
    "        if i % 2000 == 1999:    # print every 2000 mini-batches\n",
    "            print('[%d, %5d] loss: %.3f' %\n",
    "                  (epoch + 1, i + 1, running_loss / 2000))\n",
    "            train_loss.append(running_loss / 2000)\n",
    "            running_loss = 0.0\n",
    "            \n",
    "            size = len(testloader.dataset)\n",
    "            num_batches = len(testloader)\n",
    "            net.eval()\n",
    "            test_loss, correct = 0, 0\n",
    "            with torch.no_grad():\n",
    "                for X, y in testloader:\n",
    "                    X, y = X.to(device), y.to(device)\n",
    "                    pred = net(X)\n",
    "                    test_loss += criterion(pred, y).item()\n",
    "                    correct += (pred.argmax(1) == y).type(torch.float).sum().item()\n",
    "            test_loss /= num_batches\n",
    "            correct /= size\n",
    "            val_loss.append(test_loss)\n",
    "            print(f\"Test Error: \\n Val Accuracy: {(100*correct):>0.1f}%, Avg val loss: {test_loss:>8f} \\n\")"
   ]
  },
  {
   "cell_type": "code",
   "execution_count": 12,
   "id": "dedd288b",
   "metadata": {},
   "outputs": [
    {
     "data": {
      "text/plain": [
       "Text(0, 0.5, 'Loss')"
      ]
     },
     "execution_count": 12,
     "metadata": {},
     "output_type": "execute_result"
    },
    {
     "data": {
      "image/png": "[encoded data removed]",
      "text/plain": [
       "<Figure size 432x288 with 1 Axes>"
      ]
     },
     "metadata": {
      "needs_background": "light"
     },
     "output_type": "display_data"
    }
   ],
   "source": [
    "plt.clf()\n",
    "plt.plot(train_loss, label=\"train\")\n",
    "plt.plot(val_loss, label=\"valid\")\n",
    "plt.legend(loc=\"upper right\")\n",
    "plt.xlabel(\"Epochs\")\n",
    "plt.ylabel(\"Loss\")"
   ]
  },
  {
   "cell_type": "code",
   "execution_count": 13,
   "id": "452986b2",
   "metadata": {},
   "outputs": [
    {
     "name": "stdout",
     "output_type": "stream",
     "text": [
      "Test Error: \n",
      " Accuracy: 85.9%, Avg loss: 0.453755 \n",
      "\n"
     ]
    }
   ],
   "source": [
    "# Bad practice!:\n",
    "size = len(testloader.dataset)\n",
    "num_batches = len(testloader)\n",
    "net.eval()\n",
    "test_loss, correct = 0, 0\n",
    "with torch.no_grad():\n",
    "    for X, y in testloader:\n",
    "        X, y = X.to(device), y.to(device)\n",
    "        pred = net(X)\n",
    "        test_loss += criterion(pred, y).item()\n",
    "        correct += (pred.argmax(1) == y).type(torch.float).sum().item()\n",
    "test_loss /= num_batches\n",
    "correct /= size\n",
    "print(f\"Test Error: \\n Accuracy: {(100*correct):>0.1f}%, Avg loss: {test_loss:>8f} \\n\")"
   ]
  },
  {
   "cell_type": "markdown",
   "id": "c9cc940a",
   "metadata": {},
   "source": [
    "As the val.loss seems to start to level out, let's decrease the l.r."
   ]
  },
  {
   "cell_type": "code",
   "execution_count": 14,
   "id": "81f9ff40",
   "metadata": {},
   "outputs": [],
   "source": [
    "optimizer = optim.SGD(net.parameters(), lr=3e-4, momentum=0.9)"
   ]
  },
  {
   "cell_type": "code",
   "execution_count": 15,
   "id": "e22c5686",
   "metadata": {},
   "outputs": [
    {
     "name": "stdout",
     "output_type": "stream",
     "text": [
      "[1,  2000] loss: 0.210\n",
      "Test Error: \n",
      " Val Accuracy: 87.4%, Avg val loss: 0.430441 \n",
      "\n",
      "[2,  2000] loss: 0.182\n",
      "Test Error: \n",
      " Val Accuracy: 87.5%, Avg val loss: 0.423248 \n",
      "\n",
      "[3,  2000] loss: 0.171\n",
      "Test Error: \n",
      " Val Accuracy: 87.6%, Avg val loss: 0.427300 \n",
      "\n",
      "[4,  2000] loss: 0.155\n",
      "Test Error: \n",
      " Val Accuracy: 88.2%, Avg val loss: 0.443976 \n",
      "\n",
      "[5,  2000] loss: 0.146\n",
      "Test Error: \n",
      " Val Accuracy: 87.9%, Avg val loss: 0.453803 \n",
      "\n",
      "[6,  2000] loss: 0.136\n",
      "Test Error: \n",
      " Val Accuracy: 87.5%, Avg val loss: 0.463660 \n",
      "\n",
      "[7,  2000] loss: 0.130\n",
      "Test Error: \n",
      " Val Accuracy: 87.5%, Avg val loss: 0.474195 \n",
      "\n",
      "[8,  2000] loss: 0.121\n",
      "Test Error: \n",
      " Val Accuracy: 87.4%, Avg val loss: 0.487839 \n",
      "\n",
      "[9,  2000] loss: 0.115\n",
      "Test Error: \n",
      " Val Accuracy: 87.4%, Avg val loss: 0.491264 \n",
      "\n",
      "[10,  2000] loss: 0.113\n",
      "Test Error: \n",
      " Val Accuracy: 87.7%, Avg val loss: 0.472024 \n",
      "\n"
     ]
    }
   ],
   "source": [
    "for epoch in range(10):  # loop over the dataset multiple times\n",
    "\n",
    "    running_loss = 0.0\n",
    "    for i, data in enumerate(trainloader, 0):\n",
    "        # get the inputs; data is a list of [inputs, labels]\n",
    "        inputs, labels = data\n",
    "        inputs, labels = inputs.to(device), labels.to(device)\n",
    "\n",
    "        # zero the parameter gradients\n",
    "        optimizer.zero_grad()\n",
    "\n",
    "        # forward + backward + optimize\n",
    "        outputs = net(inputs)\n",
    "        loss = criterion(outputs, labels)\n",
    "        loss.backward()\n",
    "        optimizer.step()\n",
    "\n",
    "        # print statistics\n",
    "        running_loss += loss.item()\n",
    "        \n",
    "        if i % 2000 == 1999:    # print every 2000 mini-batches\n",
    "            print('[%d, %5d] loss: %.3f' %\n",
    "                  (epoch + 1, i + 1, running_loss / 2000))\n",
    "            train_loss.append(running_loss / 2000)\n",
    "            running_loss = 0.0\n",
    "            \n",
    "            size = len(testloader.dataset)\n",
    "            num_batches = len(testloader)\n",
    "            net.eval()\n",
    "            test_loss, correct = 0, 0\n",
    "            with torch.no_grad():\n",
    "                for X, y in testloader:\n",
    "                    X, y = X.to(device), y.to(device)\n",
    "                    pred = net(X)\n",
    "                    test_loss += criterion(pred, y).item()\n",
    "                    correct += (pred.argmax(1) == y).type(torch.float).sum().item()\n",
    "            test_loss /= num_batches\n",
    "            correct /= size\n",
    "            val_loss.append(test_loss)\n",
    "            print(f\"Test Error: \\n Val Accuracy: {(100*correct):>0.1f}%, Avg val loss: {test_loss:>8f} \\n\")"
   ]
  },
  {
   "cell_type": "code",
   "execution_count": 16,
   "id": "a738c72e",
   "metadata": {},
   "outputs": [
    {
     "data": {
      "text/plain": [
       "Text(0, 0.5, 'Loss')"
      ]
     },
     "execution_count": 16,
     "metadata": {},
     "output_type": "execute_result"
    },
    {
     "data": {
      "image/png": "[encoded data removed]",
      "text/plain": [
       "<Figure size 432x288 with 1 Axes>"
      ]
     },
     "metadata": {
      "needs_background": "light"
     },
     "output_type": "display_data"
    }
   ],
   "source": [
    "plt.clf()\n",
    "plt.plot(train_loss, label=\"train\")\n",
    "plt.plot(val_loss, label=\"valid\")\n",
    "plt.legend(loc=\"upper right\")\n",
    "plt.xlabel(\"Epochs\")\n",
    "plt.ylabel(\"Loss\")"
   ]
  },
  {
   "cell_type": "code",
   "execution_count": 17,
   "id": "949b2ef5",
   "metadata": {},
   "outputs": [
    {
     "name": "stdout",
     "output_type": "stream",
     "text": [
      "Test Error: \n",
      " Accuracy: 87.8%, Avg loss: 0.467160 \n",
      "\n"
     ]
    }
   ],
   "source": [
    "# Bad practice!:\n",
    "size = len(testloader.dataset)\n",
    "num_batches = len(testloader)\n",
    "net.eval()\n",
    "test_loss, correct = 0, 0\n",
    "with torch.no_grad():\n",
    "    for X, y in testloader:\n",
    "        X, y = X.to(device), y.to(device)\n",
    "        pred = net(X)\n",
    "        test_loss += criterion(pred, y).item()\n",
    "        correct += (pred.argmax(1) == y).type(torch.float).sum().item()\n",
    "test_loss /= num_batches\n",
    "correct /= size\n",
    "print(f\"Test Error: \\n Accuracy: {(100*correct):>0.1f}%, Avg loss: {test_loss:>8f} \\n\")"
   ]
  },
  {
   "cell_type": "code",
   "execution_count": 18,
   "id": "a283164c",
   "metadata": {},
   "outputs": [],
   "source": [
    "optimizer = optim.SGD(net.parameters(), lr=1e-4, momentum=0.9)"
   ]
  },
  {
   "cell_type": "code",
   "execution_count": 19,
   "id": "9509a395",
   "metadata": {},
   "outputs": [
    {
     "name": "stdout",
     "output_type": "stream",
     "text": [
      "[1,  2000] loss: 0.090\n",
      "Test Error: \n",
      " Val Accuracy: 88.3%, Avg val loss: 0.485170 \n",
      "\n",
      "[2,  2000] loss: 0.079\n",
      "Test Error: \n",
      " Val Accuracy: 88.2%, Avg val loss: 0.500546 \n",
      "\n",
      "[3,  2000] loss: 0.077\n",
      "Test Error: \n",
      " Val Accuracy: 88.2%, Avg val loss: 0.493050 \n",
      "\n",
      "[4,  2000] loss: 0.075\n",
      "Test Error: \n",
      " Val Accuracy: 88.3%, Avg val loss: 0.508882 \n",
      "\n",
      "[5,  2000] loss: 0.065\n",
      "Test Error: \n",
      " Val Accuracy: 88.2%, Avg val loss: 0.538403 \n",
      "\n",
      "[6,  2000] loss: 0.064\n",
      "Test Error: \n",
      " Val Accuracy: 88.0%, Avg val loss: 0.539502 \n",
      "\n",
      "[7,  2000] loss: 0.062\n",
      "Test Error: \n",
      " Val Accuracy: 88.1%, Avg val loss: 0.535369 \n",
      "\n",
      "[8,  2000] loss: 0.061\n",
      "Test Error: \n",
      " Val Accuracy: 88.0%, Avg val loss: 0.544316 \n",
      "\n",
      "[9,  2000] loss: 0.056\n",
      "Test Error: \n",
      " Val Accuracy: 88.2%, Avg val loss: 0.554074 \n",
      "\n",
      "[10,  2000] loss: 0.058\n",
      "Test Error: \n",
      " Val Accuracy: 88.2%, Avg val loss: 0.562021 \n",
      "\n"
     ]
    }
   ],
   "source": [
    "for epoch in range(10):  # loop over the dataset multiple times\n",
    "\n",
    "    running_loss = 0.0\n",
    "    for i, data in enumerate(trainloader, 0):\n",
    "        # get the inputs; data is a list of [inputs, labels]\n",
    "        inputs, labels = data\n",
    "        inputs, labels = inputs.to(device), labels.to(device)\n",
    "\n",
    "        # zero the parameter gradients\n",
    "        optimizer.zero_grad()\n",
    "\n",
    "        # forward + backward + optimize\n",
    "        outputs = net(inputs)\n",
    "        loss = criterion(outputs, labels)\n",
    "        loss.backward()\n",
    "        optimizer.step()\n",
    "\n",
    "        # print statistics\n",
    "        running_loss += loss.item()\n",
    "        \n",
    "        if i % 2000 == 1999:    # print every 2000 mini-batches\n",
    "            print('[%d, %5d] loss: %.3f' %\n",
    "                  (epoch + 1, i + 1, running_loss / 2000))\n",
    "            train_loss.append(running_loss / 2000)\n",
    "            running_loss = 0.0\n",
    "            \n",
    "            size = len(testloader.dataset)\n",
    "            num_batches = len(testloader)\n",
    "            net.eval()\n",
    "            test_loss, correct = 0, 0\n",
    "            with torch.no_grad():\n",
    "                for X, y in testloader:\n",
    "                    X, y = X.to(device), y.to(device)\n",
    "                    pred = net(X)\n",
    "                    test_loss += criterion(pred, y).item()\n",
    "                    correct += (pred.argmax(1) == y).type(torch.float).sum().item()\n",
    "            test_loss /= num_batches\n",
    "            correct /= size\n",
    "            val_loss.append(test_loss)\n",
    "            print(f\"Test Error: \\n Val Accuracy: {(100*correct):>0.1f}%, Avg val loss: {test_loss:>8f} \\n\")"
   ]
  },
  {
   "cell_type": "code",
   "execution_count": 20,
   "id": "1584156e",
   "metadata": {},
   "outputs": [
    {
     "data": {
      "text/plain": [
       "Text(0, 0.5, 'Loss')"
      ]
     },
     "execution_count": 20,
     "metadata": {},
     "output_type": "execute_result"
    },
    {
     "data": {
      "image/png": "[encoded data removed]",
      "text/plain": [
       "<Figure size 432x288 with 1 Axes>"
      ]
     },
     "metadata": {
      "needs_background": "light"
     },
     "output_type": "display_data"
    }
   ],
   "source": [
    "plt.clf()\n",
    "plt.plot(train_loss, label=\"train\")\n",
    "plt.plot(val_loss, label=\"valid\")\n",
    "plt.legend(loc=\"upper right\")\n",
    "plt.xlabel(\"Epochs\")\n",
    "plt.ylabel(\"Loss\")"
   ]
  },
  {
   "cell_type": "code",
   "execution_count": 21,
   "id": "5c379e66",
   "metadata": {},
   "outputs": [
    {
     "name": "stdout",
     "output_type": "stream",
     "text": [
      "Test Error: \n",
      " Accuracy: 88.0%, Avg loss: 0.577887 \n",
      "\n"
     ]
    }
   ],
   "source": [
    "# Bad practice!:\n",
    "size = len(testloader.dataset)\n",
    "num_batches = len(testloader)\n",
    "net.eval()\n",
    "test_loss, correct = 0, 0\n",
    "with torch.no_grad():\n",
    "    for X, y in testloader:\n",
    "        X, y = X.to(device), y.to(device)\n",
    "        pred = net(X)\n",
    "        test_loss += criterion(pred, y).item()\n",
    "        correct += (pred.argmax(1) == y).type(torch.float).sum().item()\n",
    "test_loss /= num_batches\n",
    "correct /= size\n",
    "print(f\"Test Error: \\n Accuracy: {(100*correct):>0.1f}%, Avg loss: {test_loss:>8f} \\n\")"
   ]
  },
  {
   "cell_type": "markdown",
   "id": "c7e3c19b",
   "metadata": {},
   "source": [
    "The model started to overfit from 20th epoch, so I have to be happy with 88% accuracy. Not exactly SOTA result but not bad. If the number of model's parameters is needed, let's see:"
   ]
  },
  {
   "cell_type": "code",
   "execution_count": 24,
   "id": "f997b60f",
   "metadata": {},
   "outputs": [
    {
     "data": {
      "text/plain": [
       "35624682"
      ]
     },
     "execution_count": 24,
     "metadata": {},
     "output_type": "execute_result"
    }
   ],
   "source": [
    "num_params = sum(p.numel() for p in net.parameters())\n",
    "num_params"
   ]
  },
  {
   "cell_type": "code",
   "execution_count": null,
   "id": "e846e74e",
   "metadata": {},
   "outputs": [],
   "source": []
  }
 ],
 "metadata": {
  "kernelspec": {
   "display_name": "Python 3",
   "language": "python",
   "name": "python3"
  },
  "language_info": {
   "codemirror_mode": {
    "name": "ipython",
    "version": 3
   },
   "file_extension": ".py",
   "mimetype": "text/x-python",
   "name": "python",
   "nbconvert_exporter": "python",
   "pygments_lexer": "ipython3",
   "version": "3.9.4"
  }
 },
 "nbformat": 4,
 "nbformat_minor": 5
}
